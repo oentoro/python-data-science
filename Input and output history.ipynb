{
 "cells": [
  {
   "cell_type": "code",
   "execution_count": 1,
   "id": "e3fafb7d",
   "metadata": {},
   "outputs": [],
   "source": [
    "import math"
   ]
  },
  {
   "cell_type": "code",
   "execution_count": 5,
   "id": "4c468f84",
   "metadata": {},
   "outputs": [
    {
     "data": {
      "text/plain": [
       "0.8509035245341184"
      ]
     },
     "execution_count": 5,
     "metadata": {},
     "output_type": "execute_result"
    }
   ],
   "source": [
    "math.sin(45)"
   ]
  },
  {
   "cell_type": "code",
   "execution_count": 6,
   "id": "1e4d33dc",
   "metadata": {},
   "outputs": [
    {
     "data": {
      "text/plain": [
       "-0.8390715290764524"
      ]
     },
     "execution_count": 6,
     "metadata": {},
     "output_type": "execute_result"
    }
   ],
   "source": [
    "math.cos(10)"
   ]
  },
  {
   "cell_type": "code",
   "execution_count": 7,
   "id": "ea893aca",
   "metadata": {},
   "outputs": [
    {
     "name": "stdout",
     "output_type": "stream",
     "text": [
      "['', 'import math', 'math.sin(90)', 'math.sin(60)', 'math.sin(30)', 'math.sin(45)', 'math.cos(10)', 'print(In)']\n"
     ]
    }
   ],
   "source": [
    "print(In)"
   ]
  },
  {
   "cell_type": "code",
   "execution_count": 8,
   "id": "641606c9",
   "metadata": {},
   "outputs": [
    {
     "data": {
      "text/plain": [
       "{2: 0.8939966636005579,\n",
       " 3: -0.3048106211022167,\n",
       " 4: -0.9880316240928618,\n",
       " 5: 0.8509035245341184,\n",
       " 6: -0.8390715290764524}"
      ]
     },
     "execution_count": 8,
     "metadata": {},
     "output_type": "execute_result"
    }
   ],
   "source": [
    "Out"
   ]
  },
  {
   "cell_type": "code",
   "execution_count": 10,
   "id": "16790b31",
   "metadata": {},
   "outputs": [
    {
     "data": {
      "text/plain": [
       "['',\n",
       " 'import math',\n",
       " 'math.sin(90)',\n",
       " 'math.sin(60)',\n",
       " 'math.sin(30)',\n",
       " 'math.sin(45)',\n",
       " 'math.cos(10)',\n",
       " 'print(In)',\n",
       " 'Out',\n",
       " 'in',\n",
       " 'In']"
      ]
     },
     "execution_count": 10,
     "metadata": {},
     "output_type": "execute_result"
    }
   ],
   "source": [
    "In"
   ]
  },
  {
   "cell_type": "code",
   "execution_count": 12,
   "id": "361e7f73",
   "metadata": {
    "scrolled": true
   },
   "outputs": [
    {
     "data": {
      "text/plain": [
       "{2: 0.8939966636005579,\n",
       " 3: -0.3048106211022167,\n",
       " 4: -0.9880316240928618,\n",
       " 5: 0.8509035245341184,\n",
       " 6: -0.8390715290764524,\n",
       " 10: ['',\n",
       "  'import math',\n",
       "  'math.sin(90)',\n",
       "  'math.sin(60)',\n",
       "  'math.sin(30)',\n",
       "  'math.sin(45)',\n",
       "  'math.cos(10)',\n",
       "  'print(In)',\n",
       "  'Out',\n",
       "  'in',\n",
       "  'In',\n",
       "  '|Out',\n",
       "  'Out']}"
      ]
     },
     "execution_count": 12,
     "metadata": {},
     "output_type": "execute_result"
    }
   ],
   "source": [
    "Out"
   ]
  },
  {
   "cell_type": "code",
   "execution_count": 13,
   "id": "c088b95a",
   "metadata": {},
   "outputs": [
    {
     "name": "stdout",
     "output_type": "stream",
     "text": [
      "0.8939966636005579\n"
     ]
    }
   ],
   "source": [
    "print(Out[2])"
   ]
  },
  {
   "cell_type": "code",
   "execution_count": 14,
   "id": "fc60e778",
   "metadata": {},
   "outputs": [
    {
     "ename": "KeyError",
     "evalue": "100",
     "output_type": "error",
     "traceback": [
      "\u001b[1;31m---------------------------------------------------------------------------\u001b[0m",
      "\u001b[1;31mKeyError\u001b[0m                                  Traceback (most recent call last)",
      "\u001b[1;32m~\\AppData\\Local\\Temp/ipykernel_936/2247472242.py\u001b[0m in \u001b[0;36m<module>\u001b[1;34m\u001b[0m\n\u001b[1;32m----> 1\u001b[1;33m \u001b[0mprint\u001b[0m\u001b[1;33m(\u001b[0m\u001b[0mOut\u001b[0m\u001b[1;33m[\u001b[0m\u001b[1;36m100\u001b[0m\u001b[1;33m]\u001b[0m\u001b[1;33m)\u001b[0m\u001b[1;33m\u001b[0m\u001b[1;33m\u001b[0m\u001b[0m\n\u001b[0m",
      "\u001b[1;31mKeyError\u001b[0m: 100"
     ]
    }
   ],
   "source": [
    "print(Out[100])"
   ]
  },
  {
   "cell_type": "code",
   "execution_count": 16,
   "id": "1b5c41e2",
   "metadata": {},
   "outputs": [],
   "source": [
    "def printout(number):\n",
    "    try:\n",
    "        print(Out[number])\n",
    "    except:\n",
    "        print(\"Index not found\")"
   ]
  },
  {
   "cell_type": "code",
   "execution_count": 17,
   "id": "b3d57df5",
   "metadata": {},
   "outputs": [
    {
     "name": "stdout",
     "output_type": "stream",
     "text": [
      "['', 'import math', 'math.sin(90)', 'math.sin(60)', 'math.sin(30)', 'math.sin(45)', 'math.cos(10)', 'print(In)', 'Out', 'in', 'In', '|Out', 'Out', 'print(Out[2])', 'print(Out[100])', 'def printout(number):', 'def printout(number):\\n    try:\\n        print(Out[number])\\n    except:\\n        print(\"Index not found\")', 'printout(10)']\n"
     ]
    }
   ],
   "source": [
    "printout(10)"
   ]
  },
  {
   "cell_type": "code",
   "execution_count": 18,
   "id": "a2c2b009",
   "metadata": {},
   "outputs": [
    {
     "name": "stdout",
     "output_type": "stream",
     "text": [
      "Index not found\n"
     ]
    }
   ],
   "source": [
    "printout(11)"
   ]
  },
  {
   "cell_type": "code",
   "execution_count": 20,
   "id": "b13d804d",
   "metadata": {},
   "outputs": [
    {
     "name": "stdout",
     "output_type": "stream",
     "text": [
      "-0.8390715290764524\n"
     ]
    }
   ],
   "source": [
    "print(__)"
   ]
  },
  {
   "cell_type": "code",
   "execution_count": 21,
   "id": "a11daee1",
   "metadata": {},
   "outputs": [
    {
     "name": "stdout",
     "output_type": "stream",
     "text": [
      "   1: import math\n",
      "   2: math.sin(90)\n",
      "   3: math.sin(60)\n",
      "   4: math.sin(30)\n"
     ]
    }
   ],
   "source": [
    "%history -n 1-4"
   ]
  },
  {
   "cell_type": "code",
   "execution_count": null,
   "id": "a1313f39",
   "metadata": {},
   "outputs": [],
   "source": []
  }
 ],
 "metadata": {
  "kernelspec": {
   "display_name": "Python 3 (ipykernel)",
   "language": "python",
   "name": "python3"
  },
  "language_info": {
   "codemirror_mode": {
    "name": "ipython",
    "version": 3
   },
   "file_extension": ".py",
   "mimetype": "text/x-python",
   "name": "python",
   "nbconvert_exporter": "python",
   "pygments_lexer": "ipython3",
   "version": "3.9.1"
  }
 },
 "nbformat": 4,
 "nbformat_minor": 5
}
