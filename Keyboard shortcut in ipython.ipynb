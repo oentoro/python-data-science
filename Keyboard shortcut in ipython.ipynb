{
 "cells": [
  {
   "cell_type": "markdown",
   "id": "fe8aa420",
   "metadata": {},
   "source": [
    "Command History Shortcuts\n",
    "Perhaps the most impactful shortcuts discussed here are the ones IPython provides for navigating the command history. This command history goes beyond your current IPython session: your entire command history is stored in a SQLite database in your IPython profile directory. The most straightforward way to access these is with the up and down arrow keys to step through the history, but other options exist as well:\n",
    "\n",
    "Keystroke\tAction\n",
    "Ctrl-p (or the up arrow key)\tAccess previous command in history\n",
    "Ctrl-n (or the down arrow key)\tAccess next command in history\n",
    "Ctrl-r\tReverse-search through command history\n",
    "The reverse-search can be particularly useful. Recall that in the previous section we defined a function called square. Let's reverse-search our Python history from a new IPython shell and find this definition again. When you press Ctrl-r in the IPython terminal, you'll see the following prompt:\n",
    "\n",
    "In [1]:\n",
    "(reverse-i-search)`':\n",
    "If you start typing characters at this prompt, IPython will auto-fill the most recent command, if any, that matches those characters:\n",
    "\n",
    "In [1]: \n",
    "(reverse-i-search)`sqa': square??\n",
    "At any point, you can add more characters to refine the search, or press Ctrl-r again to search further for another command that matches the query. If you followed along in the previous section, pressing Ctrl-r twice more gives:\n",
    "\n",
    "In [1]: \n",
    "(reverse-i-search)`sqa': def square(a):\n",
    "    \"\"\"Return the square of a\"\"\"\n",
    "    return a ** 2\n",
    "Once you have found the command you're looking for, press Return and the search will end. We can then use the retrieved command, and carry-on with our session:\n",
    "\n",
    "In [1]: def square(a):\n",
    "    \"\"\"Return the square of a\"\"\"\n",
    "    return a ** 2\n",
    "\n",
    "In [2]: square(2)\n",
    "Out[2]: 4\n",
    "Note that Ctrl-p/Ctrl-n or the up/down arrow keys can also be used to search through history, but only by matching characters at the beginning of the line. That is, if you type def and then press Ctrl-p, it would find the most recent command (if any) in your history that begins with the characters def."
   ]
  },
  {
   "cell_type": "code",
   "execution_count": null,
   "id": "9a688da3",
   "metadata": {},
   "outputs": [],
   "source": []
  }
 ],
 "metadata": {
  "kernelspec": {
   "display_name": "Python 3 (ipykernel)",
   "language": "python",
   "name": "python3"
  },
  "language_info": {
   "codemirror_mode": {
    "name": "ipython",
    "version": 3
   },
   "file_extension": ".py",
   "mimetype": "text/x-python",
   "name": "python",
   "nbconvert_exporter": "python",
   "pygments_lexer": "ipython3",
   "version": "3.9.1"
  }
 },
 "nbformat": 4,
 "nbformat_minor": 5
}
