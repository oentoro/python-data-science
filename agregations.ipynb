{
 "cells": [
  {
   "cell_type": "code",
   "execution_count": 1,
   "id": "30c13187",
   "metadata": {},
   "outputs": [],
   "source": [
    "import numpy as np"
   ]
  },
  {
   "cell_type": "code",
   "execution_count": 5,
   "id": "8984f1a0",
   "metadata": {},
   "outputs": [
    {
     "data": {
      "text/plain": [
       "array([0.73566395, 0.85440837, 0.52184323, 0.95298247, 0.0359254 ,\n",
       "       0.60962062, 0.21840108, 0.17967824, 0.82158181, 0.41783546,\n",
       "       0.56809564, 0.24502989, 0.52053627, 0.54879874, 0.83054221,\n",
       "       0.10257266, 0.5121343 , 0.04982618, 0.14896731, 0.51042411,\n",
       "       0.32897892, 0.58482982, 0.18573336, 0.79563187, 0.89745851,\n",
       "       0.18148008, 0.11537107, 0.01150696, 0.2635799 , 0.07889351,\n",
       "       0.18579334, 0.6849955 , 0.92842567, 0.82574882, 0.0954875 ,\n",
       "       0.93016613, 0.78295434, 0.57001716, 0.05266172, 0.26402692,\n",
       "       0.7080368 , 0.57408068, 0.94918394, 0.26641404, 0.32264661,\n",
       "       0.5808294 , 0.60388985, 0.80649918, 0.87855441, 0.44063181,\n",
       "       0.23645273, 0.73719809, 0.95724157, 0.758456  , 0.33269539,\n",
       "       0.3607315 , 0.35814274, 0.85143657, 0.2415451 , 0.07688103,\n",
       "       0.47193468, 0.43733836, 0.70168795, 0.39848896, 0.93380241,\n",
       "       0.34095274, 0.73539377, 0.33541619, 0.88125974, 0.99254322,\n",
       "       0.46752603, 0.97343484, 0.43604753, 0.10614583, 0.85050402,\n",
       "       0.74527853, 0.66382082, 0.1618894 , 0.32710154, 0.44479886,\n",
       "       0.59353957, 0.2908733 , 0.28737184, 0.61427598, 0.14336428,\n",
       "       0.6508887 , 0.30298452, 0.02323595, 0.17430556, 0.23066425,\n",
       "       0.14146802, 0.2118807 , 0.69282393, 0.93763079, 0.11926017,\n",
       "       0.3917849 , 0.08600115, 0.28279904, 0.47639841, 0.59561139])"
      ]
     },
     "execution_count": 5,
     "metadata": {},
     "output_type": "execute_result"
    }
   ],
   "source": [
    "L = np.random.random(100)\n",
    "L"
   ]
  },
  {
   "cell_type": "code",
   "execution_count": 6,
   "id": "b35dceab",
   "metadata": {},
   "outputs": [
    {
     "data": {
      "text/plain": [
       "47.84268437353851"
      ]
     },
     "execution_count": 6,
     "metadata": {},
     "output_type": "execute_result"
    }
   ],
   "source": [
    "sum(L)"
   ]
  },
  {
   "cell_type": "code",
   "execution_count": 7,
   "id": "93a2830e",
   "metadata": {},
   "outputs": [
    {
     "data": {
      "text/plain": [
       "47.8426843735385"
      ]
     },
     "execution_count": 7,
     "metadata": {},
     "output_type": "execute_result"
    }
   ],
   "source": [
    "np.sum(L)"
   ]
  },
  {
   "cell_type": "code",
   "execution_count": 8,
   "id": "e5ea6ea0",
   "metadata": {},
   "outputs": [
    {
     "name": "stdout",
     "output_type": "stream",
     "text": [
      "88 ms ± 2 ms per loop (mean ± std. dev. of 7 runs, 10 loops each)\n",
      "1.04 ms ± 27.7 µs per loop (mean ± std. dev. of 7 runs, 1000 loops each)\n"
     ]
    }
   ],
   "source": [
    "big_array = np.random.rand(1000000)\n",
    "%timeit sum(big_array)\n",
    "%timeit np.sum(big_array)"
   ]
  },
  {
   "cell_type": "code",
   "execution_count": 9,
   "id": "47b1c0dd",
   "metadata": {},
   "outputs": [
    {
     "data": {
      "text/plain": [
       "5.156684492746422e-07"
      ]
     },
     "execution_count": 9,
     "metadata": {},
     "output_type": "execute_result"
    }
   ],
   "source": [
    "min(big_array)"
   ]
  },
  {
   "cell_type": "code",
   "execution_count": 10,
   "id": "5dee19b5",
   "metadata": {},
   "outputs": [
    {
     "data": {
      "text/plain": [
       "0.9999984641105022"
      ]
     },
     "execution_count": 10,
     "metadata": {},
     "output_type": "execute_result"
    }
   ],
   "source": [
    "max(big_array)"
   ]
  },
  {
   "cell_type": "code",
   "execution_count": 11,
   "id": "c7968320",
   "metadata": {},
   "outputs": [
    {
     "name": "stdout",
     "output_type": "stream",
     "text": [
      "5.156684492746422e-07 0.9999984641105022 500020.956908299\n"
     ]
    }
   ],
   "source": [
    "print(big_array.min(), big_array.max(), big_array.sum())"
   ]
  },
  {
   "cell_type": "code",
   "execution_count": 12,
   "id": "b9f6af46",
   "metadata": {},
   "outputs": [
    {
     "name": "stdout",
     "output_type": "stream",
     "text": [
      "[[0.66241655 0.38677663 0.47239448 0.59104034]\n",
      " [0.14470702 0.91567778 0.27280647 0.22116818]\n",
      " [0.07607089 0.06454175 0.05600453 0.07727332]]\n"
     ]
    }
   ],
   "source": [
    "M = np.random.random((3, 4))\n",
    "print(M)"
   ]
  },
  {
   "cell_type": "code",
   "execution_count": 13,
   "id": "fea53575",
   "metadata": {},
   "outputs": [
    {
     "data": {
      "text/plain": [
       "3.9408779489419192"
      ]
     },
     "execution_count": 13,
     "metadata": {},
     "output_type": "execute_result"
    }
   ],
   "source": [
    "M.sum()"
   ]
  },
  {
   "cell_type": "code",
   "execution_count": 14,
   "id": "af0868af",
   "metadata": {},
   "outputs": [
    {
     "data": {
      "text/plain": [
       "array([0.07607089, 0.06454175, 0.05600453, 0.07727332])"
      ]
     },
     "execution_count": 14,
     "metadata": {},
     "output_type": "execute_result"
    }
   ],
   "source": [
    "M.min(axis=0)"
   ]
  },
  {
   "cell_type": "code",
   "execution_count": 15,
   "id": "e794e143",
   "metadata": {},
   "outputs": [
    {
     "data": {
      "text/plain": [
       "array([0.66241655, 0.91567778, 0.07727332])"
      ]
     },
     "execution_count": 15,
     "metadata": {},
     "output_type": "execute_result"
    }
   ],
   "source": [
    "M.max(axis=1)"
   ]
  },
  {
   "cell_type": "code",
   "execution_count": null,
   "id": "21863afe",
   "metadata": {},
   "outputs": [],
   "source": []
  }
 ],
 "metadata": {
  "kernelspec": {
   "display_name": "Python 3 (ipykernel)",
   "language": "python",
   "name": "python3"
  },
  "language_info": {
   "codemirror_mode": {
    "name": "ipython",
    "version": 3
   },
   "file_extension": ".py",
   "mimetype": "text/x-python",
   "name": "python",
   "nbconvert_exporter": "python",
   "pygments_lexer": "ipython3",
   "version": "3.9.1"
  }
 },
 "nbformat": 4,
 "nbformat_minor": 5
}
