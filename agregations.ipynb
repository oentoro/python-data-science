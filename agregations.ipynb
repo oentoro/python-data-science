{
 "cells": [
  {
   "cell_type": "code",
   "execution_count": 3,
   "id": "30c13187",
   "metadata": {},
   "outputs": [],
   "source": [
    "import numpy as np"
   ]
  },
  {
   "cell_type": "code",
   "execution_count": 4,
   "id": "8984f1a0",
   "metadata": {},
   "outputs": [
    {
     "data": {
      "text/plain": [
       "array([0.74354549, 0.60987995, 0.50040295, 0.37237596, 0.91193677,\n",
       "       0.53387189, 0.61184314, 0.91922951, 0.19316385, 0.5444498 ,\n",
       "       0.33010784, 0.30836436, 0.08863569, 0.58006166, 0.82741294,\n",
       "       0.68270265, 0.80525239, 0.31301341, 0.77007085, 0.01408919,\n",
       "       0.23966406, 0.29195054, 0.84454458, 0.67598292, 0.16422482,\n",
       "       0.39590515, 0.17103323, 0.56632926, 0.76377923, 0.22736473,\n",
       "       0.55281245, 0.91488069, 0.37468232, 0.23214822, 0.45493132,\n",
       "       0.11837957, 0.25245414, 0.94914428, 0.68097208, 0.57864215,\n",
       "       0.76606536, 0.46663548, 0.20577459, 0.21335995, 0.86530517,\n",
       "       0.93730241, 0.5820981 , 0.66184634, 0.03980362, 0.52397511,\n",
       "       0.20788615, 0.22785342, 0.23527877, 0.32294239, 0.46269965,\n",
       "       0.63060669, 0.92435451, 0.92353445, 0.70988298, 0.40168308,\n",
       "       0.99654641, 0.70247722, 0.08714332, 0.96267212, 0.15327409,\n",
       "       0.35039432, 0.4102057 , 0.2035131 , 0.14846914, 0.6022177 ,\n",
       "       0.81265262, 0.35510213, 0.11872928, 0.77828101, 0.38845687,\n",
       "       0.05737744, 0.80630233, 0.30117512, 0.76533513, 0.06688537,\n",
       "       0.15865661, 0.40240634, 0.82172612, 0.09059561, 0.30501104,\n",
       "       0.7723193 , 0.08464525, 0.78455101, 0.51488707, 0.61570588,\n",
       "       0.95497035, 0.06302567, 0.69403064, 0.96346998, 0.61539516,\n",
       "       0.48367628, 0.90150379, 0.16512436, 0.33150635, 0.52689696])"
      ]
     },
     "execution_count": 4,
     "metadata": {},
     "output_type": "execute_result"
    }
   ],
   "source": [
    "L = np.random.random(100)\n",
    "L"
   ]
  },
  {
   "cell_type": "code",
   "execution_count": 5,
   "id": "b35dceab",
   "metadata": {},
   "outputs": [
    {
     "data": {
      "text/plain": [
       "49.73643843656337"
      ]
     },
     "execution_count": 5,
     "metadata": {},
     "output_type": "execute_result"
    }
   ],
   "source": [
    "sum(L)"
   ]
  },
  {
   "cell_type": "code",
   "execution_count": 6,
   "id": "93a2830e",
   "metadata": {},
   "outputs": [
    {
     "data": {
      "text/plain": [
       "49.736438436563375"
      ]
     },
     "execution_count": 6,
     "metadata": {},
     "output_type": "execute_result"
    }
   ],
   "source": [
    "np.sum(L)"
   ]
  },
  {
   "cell_type": "code",
   "execution_count": 7,
   "id": "e5ea6ea0",
   "metadata": {},
   "outputs": [
    {
     "name": "stdout",
     "output_type": "stream",
     "text": [
      "76.6 ms ± 1.18 ms per loop (mean ± std. dev. of 7 runs, 10 loops each)\n",
      "464 µs ± 39.6 µs per loop (mean ± std. dev. of 7 runs, 1000 loops each)\n"
     ]
    }
   ],
   "source": [
    "big_array = np.random.rand(1000000)\n",
    "%timeit sum(big_array)\n",
    "%timeit np.sum(big_array)"
   ]
  },
  {
   "cell_type": "code",
   "execution_count": 8,
   "id": "47b1c0dd",
   "metadata": {},
   "outputs": [
    {
     "data": {
      "text/plain": [
       "7.0926233858292775e-06"
      ]
     },
     "execution_count": 8,
     "metadata": {},
     "output_type": "execute_result"
    }
   ],
   "source": [
    "min(big_array)"
   ]
  },
  {
   "cell_type": "code",
   "execution_count": 9,
   "id": "5dee19b5",
   "metadata": {},
   "outputs": [
    {
     "data": {
      "text/plain": [
       "0.9999977708078596"
      ]
     },
     "execution_count": 9,
     "metadata": {},
     "output_type": "execute_result"
    }
   ],
   "source": [
    "max(big_array)"
   ]
  },
  {
   "cell_type": "code",
   "execution_count": 10,
   "id": "c7968320",
   "metadata": {},
   "outputs": [
    {
     "name": "stdout",
     "output_type": "stream",
     "text": [
      "7.0926233858292775e-06 0.9999977708078596 500029.1769923763\n"
     ]
    }
   ],
   "source": [
    "print(big_array.min(), big_array.max(), big_array.sum())"
   ]
  },
  {
   "cell_type": "code",
   "execution_count": 11,
   "id": "b9f6af46",
   "metadata": {},
   "outputs": [
    {
     "name": "stdout",
     "output_type": "stream",
     "text": [
      "[[0.12892966 0.38535968 0.34525496 0.80934077]\n",
      " [0.32228982 0.21001128 0.25679518 0.76662257]\n",
      " [0.42341601 0.37463128 0.20377383 0.82058235]]\n"
     ]
    }
   ],
   "source": [
    "M = np.random.random((3, 4))\n",
    "print(M)"
   ]
  },
  {
   "cell_type": "code",
   "execution_count": 12,
   "id": "fea53575",
   "metadata": {},
   "outputs": [
    {
     "data": {
      "text/plain": [
       "5.047007400911911"
      ]
     },
     "execution_count": 12,
     "metadata": {},
     "output_type": "execute_result"
    }
   ],
   "source": [
    "M.sum()"
   ]
  },
  {
   "cell_type": "code",
   "execution_count": 13,
   "id": "af0868af",
   "metadata": {},
   "outputs": [
    {
     "data": {
      "text/plain": [
       "array([0.12892966, 0.21001128, 0.20377383, 0.76662257])"
      ]
     },
     "execution_count": 13,
     "metadata": {},
     "output_type": "execute_result"
    }
   ],
   "source": [
    "M.min(axis=0)"
   ]
  },
  {
   "cell_type": "code",
   "execution_count": 14,
   "id": "e794e143",
   "metadata": {},
   "outputs": [
    {
     "data": {
      "text/plain": [
       "array([0.80934077, 0.76662257, 0.82058235])"
      ]
     },
     "execution_count": 14,
     "metadata": {},
     "output_type": "execute_result"
    }
   ],
   "source": [
    "M.max(axis=1)"
   ]
  },
  {
   "cell_type": "code",
   "execution_count": 15,
   "id": "21863afe",
   "metadata": {},
   "outputs": [
    {
     "name": "stdout",
     "output_type": "stream",
     "text": [
      "[189 170 189 163 183 171 185 168 173 183 173 173 175 178 183 193 178 173\n",
      " 174 183 183 168 170 178 182 180 183 178 182 188 175 179 183 193 182 183\n",
      " 177 185 188 188 182 185]\n"
     ]
    }
   ],
   "source": [
    "import pandas as pd\n",
    "data = pd.read_csv(\"data/president_heights.csv\")\n",
    "heights = np.array(data[\"height(cm)\"])\n",
    "print(heights)"
   ]
  },
  {
   "cell_type": "code",
   "execution_count": 20,
   "id": "9e4eda97",
   "metadata": {},
   "outputs": [
    {
     "name": "stdout",
     "output_type": "stream",
     "text": [
      "Tinggi rata-rata:  179.73809523809524\n",
      "Standard deviation:  6.931843442745892\n",
      "Tinggi maksimum:  193\n",
      "Tinggi minimum:  163\n"
     ]
    }
   ],
   "source": [
    "print(\"Tinggi rata-rata: \",heights.mean())\n",
    "print(\"Standard deviation: \",heights.std())\n",
    "print(\"Tinggi maksimum: \", heights.max())\n",
    "print(\"Tinggi minimum: \",heights.min())"
   ]
  },
  {
   "cell_type": "code",
   "execution_count": 23,
   "id": "0273c619",
   "metadata": {},
   "outputs": [
    {
     "name": "stdout",
     "output_type": "stream",
     "text": [
      "25 percentile:  174.25\n",
      "50 percentile:  182.0\n",
      "75 percentile:  183.0\n"
     ]
    }
   ],
   "source": [
    "print(\"25 percentile: \",np.percentile(heights, 25))\n",
    "print(\"50 percentile: \",np.percentile(heights, 50))\n",
    "print(\"75 percentile: \",np.percentile(heights, 75))"
   ]
  },
  {
   "cell_type": "code",
   "execution_count": 27,
   "id": "46109bf6",
   "metadata": {},
   "outputs": [],
   "source": [
    "%matplotlib inline\n",
    "import matplotlib.pyplot as plt\n",
    "import seaborn; seaborn.set()"
   ]
  },
  {
   "cell_type": "code",
   "execution_count": 28,
   "id": "f1c5354e",
   "metadata": {},
   "outputs": [
    {
     "data": {
      "text/plain": [
       "Text(0, 0.5, 'number')"
      ]
     },
     "execution_count": 28,
     "metadata": {},
     "output_type": "execute_result"
    },
    {
     "data": {
      "image/png": "[encoded data removed]",
      "text/plain": [
       "<Figure size 432x288 with 1 Axes>"
      ]
     },
     "metadata": {},
     "output_type": "display_data"
    }
   ],
   "source": [
    "plt.hist(heights)\n",
    "plt.title(\"Height distribution of us presidents\")\n",
    "plt.xlabel(\"height (cm)\")\n",
    "plt.ylabel(\"number\")"
   ]
  },
  {
   "cell_type": "code",
   "execution_count": null,
   "id": "c750b880",
   "metadata": {},
   "outputs": [],
   "source": []
  }
 ],
 "metadata": {
  "kernelspec": {
   "display_name": "Python 3 (ipykernel)",
   "language": "python",
   "name": "python3"
  },
  "language_info": {
   "codemirror_mode": {
    "name": "ipython",
    "version": 3
   },
   "file_extension": ".py",
   "mimetype": "text/x-python",
   "name": "python",
   "nbconvert_exporter": "python",
   "pygments_lexer": "ipython3",
   "version": "3.8.2"
  }
 },
 "nbformat": 4,
 "nbformat_minor": 5
}
