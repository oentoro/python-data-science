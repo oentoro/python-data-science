{
 "cells": [
  {
   "cell_type": "code",
   "execution_count": 68,
   "id": "5c40e8a8",
   "metadata": {},
   "outputs": [],
   "source": [
    "list?"
   ]
  },
  {
   "cell_type": "code",
   "execution_count": 69,
   "id": "a15ac116",
   "metadata": {},
   "outputs": [],
   "source": [
    "list??"
   ]
  },
  {
   "cell_type": "code",
   "execution_count": 70,
   "id": "5b987809",
   "metadata": {},
   "outputs": [],
   "source": [
    "def tolong():\n",
    "    \"\"\"menampilkan dokumentasi\"\"\"\n",
    "    print(\"keluar dokumentasi\")"
   ]
  },
  {
   "cell_type": "code",
   "execution_count": 71,
   "id": "89293ce8",
   "metadata": {},
   "outputs": [],
   "source": [
    "tolong?"
   ]
  },
  {
   "cell_type": "code",
   "execution_count": 72,
   "id": "1d0ac2aa",
   "metadata": {},
   "outputs": [],
   "source": [
    "tolong??"
   ]
  },
  {
   "cell_type": "code",
   "execution_count": 73,
   "id": "31dbb735",
   "metadata": {},
   "outputs": [],
   "source": [
    "L = []"
   ]
  },
  {
   "cell_type": "code",
   "execution_count": 74,
   "id": "6ec3fb25",
   "metadata": {},
   "outputs": [],
   "source": [
    "L.append(\"test\")"
   ]
  },
  {
   "cell_type": "code",
   "execution_count": 75,
   "id": "96676197",
   "metadata": {},
   "outputs": [
    {
     "data": {
      "text/plain": [
       "False"
      ]
     },
     "execution_count": 75,
     "metadata": {},
     "output_type": "execute_result"
    }
   ],
   "source": [
    "\"coba\" in L"
   ]
  },
  {
   "cell_type": "code",
   "execution_count": 76,
   "id": "85ed32d5",
   "metadata": {},
   "outputs": [],
   "source": [
    "S = set()"
   ]
  },
  {
   "cell_type": "code",
   "execution_count": 77,
   "id": "a03b680f",
   "metadata": {},
   "outputs": [],
   "source": [
    "S.add('coba'); S.add('aja'); S.add('ini')"
   ]
  },
  {
   "cell_type": "code",
   "execution_count": 78,
   "id": "579882d5",
   "metadata": {},
   "outputs": [],
   "source": [
    "S??"
   ]
  },
  {
   "cell_type": "code",
   "execution_count": 79,
   "id": "583f2417",
   "metadata": {},
   "outputs": [
    {
     "name": "stdout",
     "output_type": "stream",
     "text": [
      "aja\n",
      "coba\n",
      "ini\n"
     ]
    }
   ],
   "source": [
    "for val in S:\n",
    "    print(val)"
   ]
  },
  {
   "cell_type": "code",
   "execution_count": 80,
   "id": "2a9c37f0",
   "metadata": {},
   "outputs": [
    {
     "data": {
      "text/plain": [
       "3"
      ]
     },
     "execution_count": 80,
     "metadata": {},
     "output_type": "execute_result"
    }
   ],
   "source": [
    "len(S)"
   ]
  },
  {
   "cell_type": "code",
   "execution_count": 81,
   "id": "078bb52c",
   "metadata": {},
   "outputs": [
    {
     "data": {
      "text/plain": [
       "1"
      ]
     },
     "execution_count": 81,
     "metadata": {},
     "output_type": "execute_result"
    }
   ],
   "source": [
    "L.count('test')"
   ]
  },
  {
   "cell_type": "code",
   "execution_count": 82,
   "id": "55b89317",
   "metadata": {},
   "outputs": [],
   "source": [
    "S.add('coba')"
   ]
  },
  {
   "cell_type": "code",
   "execution_count": 83,
   "id": "84e31249",
   "metadata": {},
   "outputs": [],
   "source": [
    "S?"
   ]
  },
  {
   "cell_type": "code",
   "execution_count": 84,
   "id": "d52b0c0a",
   "metadata": {},
   "outputs": [],
   "source": [
    "D = {\n",
    "    \"nama\":\"caisar\",\n",
    "    \"umur\":30\n",
    "}"
   ]
  },
  {
   "cell_type": "code",
   "execution_count": 85,
   "id": "cb1914dc",
   "metadata": {},
   "outputs": [],
   "source": [
    "D?"
   ]
  },
  {
   "cell_type": "code",
   "execution_count": 86,
   "id": "62cd2e4a",
   "metadata": {},
   "outputs": [],
   "source": [
    "L.append(D)"
   ]
  },
  {
   "cell_type": "code",
   "execution_count": 87,
   "id": "69a7d5b4",
   "metadata": {},
   "outputs": [],
   "source": [
    "L.remove('test')"
   ]
  },
  {
   "cell_type": "code",
   "execution_count": 88,
   "id": "b98ad112",
   "metadata": {},
   "outputs": [
    {
     "data": {
      "text/plain": [
       "[{'nama': 'caisar', 'umur': 30}]"
      ]
     },
     "execution_count": 88,
     "metadata": {},
     "output_type": "execute_result"
    }
   ],
   "source": [
    "list(filter(lambda person: person['nama'] == 'caisar', L))"
   ]
  },
  {
   "cell_type": "markdown",
   "id": "e667fdf7",
   "metadata": {},
   "source": [
    "akhir dari pelajaran"
   ]
  }
 ],
 "metadata": {
  "kernelspec": {
   "display_name": "Python 3 (ipykernel)",
   "language": "python",
   "name": "python3"
  },
  "language_info": {
   "codemirror_mode": {
    "name": "ipython",
    "version": 3
   },
   "file_extension": ".py",
   "mimetype": "text/x-python",
   "name": "python",
   "nbconvert_exporter": "python",
   "pygments_lexer": "ipython3",
   "version": "3.9.1"
  }
 },
 "nbformat": 4,
 "nbformat_minor": 5
}
