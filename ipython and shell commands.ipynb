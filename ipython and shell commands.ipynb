{
 "cells": [
  {
   "cell_type": "code",
   "execution_count": 1,
   "id": "2af35fbb",
   "metadata": {},
   "outputs": [
    {
     "name": "stderr",
     "output_type": "stream",
     "text": [
      "'ls' is not recognized as an internal or external command,\n",
      "operable program or batch file.\n"
     ]
    }
   ],
   "source": [
    "!ls"
   ]
  },
  {
   "cell_type": "code",
   "execution_count": 2,
   "id": "48b368fb",
   "metadata": {},
   "outputs": [
    {
     "name": "stdout",
     "output_type": "stream",
     "text": [
      " Volume in drive D is DATA\n",
      " Volume Serial Number is 7A0B-83F0\n",
      "\n",
      " Directory of D:\\oentoro\\python-data-science\n",
      "\n",
      "07/15/2021  02:08 PM    <DIR>          .\n",
      "07/15/2021  02:08 PM    <DIR>          ..\n",
      "07/15/2021  02:08 PM    <DIR>          .ipynb_checkpoints\n",
      "07/15/2021  08:06 AM    <DIR>          etc\n",
      "07/15/2021  08:27 AM             4,892 help and documentation in ipython.ipynb\n",
      "07/15/2021  08:04 AM    <DIR>          Include\n",
      "07/15/2021  11:09 AM             6,661 Input and output history.ipynb\n",
      "07/15/2021  08:45 AM             3,005 Keyboard shortcut in ipython.ipynb\n",
      "07/15/2021  08:04 AM    <DIR>          Lib\n",
      "07/15/2021  09:37 AM             8,776 magic commands.ipynb\n",
      "07/15/2021  09:29 AM               179 myfile.py\n",
      "07/15/2021  08:04 AM                75 pyvenv.cfg\n",
      "07/15/2021  08:06 AM    <DIR>          Scripts\n",
      "07/15/2021  08:06 AM    <DIR>          share\n",
      "07/15/2021  02:08 PM                72 Untitled.ipynb\n",
      "               7 File(s)         23,660 bytes\n",
      "               8 Dir(s)  224,326,311,936 bytes free\n"
     ]
    }
   ],
   "source": [
    "!dir"
   ]
  },
  {
   "cell_type": "code",
   "execution_count": 3,
   "id": "0ecaedd2",
   "metadata": {},
   "outputs": [
    {
     "name": "stdout",
     "output_type": "stream",
     "text": [
      "Collecting numpy\n",
      "  Using cached numpy-1.21.0-cp39-cp39-win_amd64.whl (14.0 MB)\n",
      "Installing collected packages: numpy\n",
      "Successfully installed numpy-1.21.0\n"
     ]
    },
    {
     "name": "stderr",
     "output_type": "stream",
     "text": [
      "WARNING: You are using pip version 20.2.3; however, version 21.1.3 is available.\n",
      "You should consider upgrading via the 'd:\\oentoro\\python-data-science\\scripts\\python.exe -m pip install --upgrade pip' command.\n"
     ]
    }
   ],
   "source": [
    "!pip install numpy"
   ]
  },
  {
   "cell_type": "code",
   "execution_count": 6,
   "id": "342aa164",
   "metadata": {},
   "outputs": [],
   "source": [
    "data = !dir"
   ]
  },
  {
   "cell_type": "code",
   "execution_count": 7,
   "id": "b352a450",
   "metadata": {},
   "outputs": [
    {
     "data": {
      "text/plain": [
       "[' Volume in drive D is DATA',\n",
       " ' Volume Serial Number is 7A0B-83F0',\n",
       " '',\n",
       " ' Directory of D:\\\\oentoro\\\\python-data-science',\n",
       " '',\n",
       " '07/15/2021  02:11 PM    <DIR>          .',\n",
       " '07/15/2021  02:11 PM    <DIR>          ..',\n",
       " '07/15/2021  02:10 PM    <DIR>          .ipynb_checkpoints',\n",
       " '07/15/2021  08:06 AM    <DIR>          etc',\n",
       " '07/15/2021  08:27 AM             4,892 help and documentation in ipython.ipynb',\n",
       " '07/15/2021  08:04 AM    <DIR>          Include',\n",
       " '07/15/2021  11:09 AM             6,661 Input and output history.ipynb',\n",
       " '07/15/2021  02:11 PM             3,358 ipython and shell commands.ipynb',\n",
       " '07/15/2021  08:45 AM             3,005 Keyboard shortcut in ipython.ipynb',\n",
       " '07/15/2021  08:04 AM    <DIR>          Lib',\n",
       " '07/15/2021  09:37 AM             8,776 magic commands.ipynb',\n",
       " '07/15/2021  09:29 AM               179 myfile.py',\n",
       " '07/15/2021  08:04 AM                75 pyvenv.cfg',\n",
       " '07/15/2021  02:09 PM    <DIR>          Scripts',\n",
       " '07/15/2021  08:06 AM    <DIR>          share',\n",
       " '               7 File(s)         26,946 bytes',\n",
       " '               8 Dir(s)  224,263,254,016 bytes free']"
      ]
     },
     "execution_count": 7,
     "metadata": {},
     "output_type": "execute_result"
    }
   ],
   "source": [
    "data"
   ]
  },
  {
   "cell_type": "code",
   "execution_count": 8,
   "id": "c27a6318",
   "metadata": {},
   "outputs": [
    {
     "name": "stderr",
     "output_type": "stream",
     "text": [
      "'pwd' is not recognized as an internal or external command,\n",
      "operable program or batch file.\n"
     ]
    }
   ],
   "source": [
    "!pwd"
   ]
  },
  {
   "cell_type": "code",
   "execution_count": 9,
   "id": "226ac7d6",
   "metadata": {},
   "outputs": [
    {
     "data": {
      "text/plain": [
       "IPython.utils.text.SList"
      ]
     },
     "execution_count": 9,
     "metadata": {},
     "output_type": "execute_result"
    }
   ],
   "source": [
    "type(data)"
   ]
  },
  {
   "cell_type": "code",
   "execution_count": null,
   "id": "9406b5e1",
   "metadata": {},
   "outputs": [],
   "source": []
  }
 ],
 "metadata": {
  "kernelspec": {
   "display_name": "Python 3 (ipykernel)",
   "language": "python",
   "name": "python3"
  },
  "language_info": {
   "codemirror_mode": {
    "name": "ipython",
    "version": 3
   },
   "file_extension": ".py",
   "mimetype": "text/x-python",
   "name": "python",
   "nbconvert_exporter": "python",
   "pygments_lexer": "ipython3",
   "version": "3.9.1"
  }
 },
 "nbformat": 4,
 "nbformat_minor": 5
}
