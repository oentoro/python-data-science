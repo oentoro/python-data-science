{
 "cells": [
  {
   "cell_type": "code",
   "execution_count": 5,
   "id": "7a9973ec",
   "metadata": {},
   "outputs": [],
   "source": [
    ">>> def donothing(x):\n",
    "...     return x"
   ]
  },
  {
   "cell_type": "code",
   "execution_count": 6,
   "id": "9c1f2a5a",
   "metadata": {},
   "outputs": [
    {
     "data": {
      "text/plain": [
       "10"
      ]
     },
     "execution_count": 6,
     "metadata": {},
     "output_type": "execute_result"
    }
   ],
   "source": [
    "donothing(10)"
   ]
  },
  {
   "cell_type": "code",
   "execution_count": 8,
   "id": "7a097071",
   "metadata": {},
   "outputs": [
    {
     "name": "stdout",
     "output_type": "stream",
     "text": [
      "1 squared is 1\n",
      "2 squared is 4\n",
      "3 squared is 9\n"
     ]
    }
   ],
   "source": [
    "%run myfile.py"
   ]
  },
  {
   "cell_type": "code",
   "execution_count": 9,
   "id": "d0164c01",
   "metadata": {},
   "outputs": [
    {
     "data": {
      "text/plain": [
       "10000"
      ]
     },
     "execution_count": 9,
     "metadata": {},
     "output_type": "execute_result"
    }
   ],
   "source": [
    "square(100)"
   ]
  },
  {
   "cell_type": "code",
   "execution_count": 10,
   "id": "61a7233e",
   "metadata": {},
   "outputs": [
    {
     "name": "stdout",
     "output_type": "stream",
     "text": [
      "214 µs ± 4.99 µs per loop (mean ± std. dev. of 7 runs, 1000 loops each)\n"
     ]
    }
   ],
   "source": [
    " %timeit L = [n ** 2 for n in range(1000)]"
   ]
  },
  {
   "cell_type": "code",
   "execution_count": 11,
   "id": "09a75acd",
   "metadata": {},
   "outputs": [
    {
     "name": "stdout",
     "output_type": "stream",
     "text": [
      "242 µs ± 11.6 µs per loop (mean ± std. dev. of 7 runs, 1000 loops each)\n"
     ]
    }
   ],
   "source": [
    "In [9]: %%timeit\n",
    "   ...: L = []\n",
    "   ...: for n in range(1000):\n",
    "   ...:     L.append(n ** 2)\n",
    "   ...: "
   ]
  },
  {
   "cell_type": "code",
   "execution_count": 12,
   "id": "583cb2c8",
   "metadata": {},
   "outputs": [],
   "source": [
    "%magic"
   ]
  },
  {
   "cell_type": "code",
   "execution_count": 13,
   "id": "62f3373e",
   "metadata": {},
   "outputs": [
    {
     "name": "stdout",
     "output_type": "stream",
     "text": [
      "Directory history (kept in _dh)\n",
      "0: D:\\oentoro\\python-data-science\n"
     ]
    }
   ],
   "source": [
    "%dhist"
   ]
  },
  {
   "cell_type": "code",
   "execution_count": 14,
   "id": "e983460f",
   "metadata": {},
   "outputs": [
    {
     "data": {
      "text/plain": [
       "[]"
      ]
     },
     "execution_count": 14,
     "metadata": {},
     "output_type": "execute_result"
    }
   ],
   "source": [
    "%dirs"
   ]
  },
  {
   "cell_type": "code",
   "execution_count": 15,
   "id": "3f9321b1",
   "metadata": {},
   "outputs": [
    {
     "name": "stdout",
     "output_type": "stream",
     "text": [
      "Exception reporting mode: Plain\n",
      "Doctest mode is: ON\n"
     ]
    }
   ],
   "source": [
    "%doctest_mode"
   ]
  },
  {
   "cell_type": "code",
   "execution_count": 16,
   "id": "58b4200b",
   "metadata": {},
   "outputs": [
    {
     "name": "stdout",
     "output_type": "stream",
     "text": [
      "ECHO is on.\n"
     ]
    }
   ],
   "source": [
    "%echo"
   ]
  },
  {
   "cell_type": "code",
   "execution_count": 17,
   "id": "b506e6d1",
   "metadata": {},
   "outputs": [
    {
     "data": {
      "text/plain": [
       "{'ALLUSERSPROFILE': 'C:\\\\ProgramData', 'APPDATA': 'C:\\\\Users\\\\oentoro\\\\AppData\\\\Roaming', 'ASL.LOG': 'Destination=file', 'CHOCOLATEYINSTALL': 'C:\\\\ProgramData\\\\chocolatey', 'CHOCOLATEYLASTPATHUPDATE': '132701100804402543', 'CHOCOLATEYTOOLSLOCATION': 'C:\\\\tools', 'COMMONPROGRAMFILES': 'C:\\\\Program Files\\\\Common Files', 'COMMONPROGRAMFILES(X86)': 'C:\\\\Program Files (x86)\\\\Common Files', 'COMMONPROGRAMW6432': 'C:\\\\Program Files\\\\Common Files', 'COMPUTERNAME': 'OENTORO', 'COMSPEC': 'C:\\\\Windows\\\\system32\\\\cmd.exe', 'DRIVERDATA': 'C:\\\\Windows\\\\System32\\\\Drivers\\\\DriverData', 'HOMEDRIVE': 'C:', 'HOMEPATH': '\\\\Users\\\\oentoro', 'INTELLIJ IDEA COMMUNITY EDITION': 'D:\\\\program files\\\\IntelliJ IDEA\\\\IntelliJ IDEA Community Edition 2020.2.2\\\\bin;', 'LOCALAPPDATA': 'C:\\\\Users\\\\oentoro\\\\AppData\\\\Local', 'LOGONSERVER': '\\\\\\\\OENTORO', 'NUMBER_OF_PROCESSORS': '4', 'ONEDRIVE': 'C:\\\\Users\\\\oentoro\\\\OneDrive', 'ONEDRIVECONSUMER': 'C:\\\\Users\\\\oentoro\\\\OneDrive', 'OS': 'Windows_NT', 'PATH': 'D:\\\\oentoro\\\\python-data-science\\\\Scripts;C:\\\\Python39\\\\Scripts\\\\;C:\\\\Python39\\\\;C:\\\\Windows\\\\system32;C:\\\\Windows;C:\\\\Windows\\\\System32\\\\Wbem;C:\\\\Windows\\\\System32\\\\WindowsPowerShell\\\\v1.0\\\\;C:\\\\Windows\\\\System32\\\\OpenSSH\\\\;C:\\\\ProgramData\\\\chocolatey\\\\bin;C:\\\\Program Files\\\\Git\\\\cmd;D:\\\\flutter\\\\bin;;C:\\\\Program Files\\\\Docker\\\\Docker\\\\resources\\\\bin;C:\\\\ProgramData\\\\DockerDesktop\\\\version-bin;C:\\\\tools\\\\php80;C:\\\\Users\\\\oentoro\\\\AppData\\\\Local\\\\Microsoft\\\\WindowsApps;D:\\\\program files\\\\IntelliJ IDEA\\\\IntelliJ IDEA Community Edition 2020.2.2\\\\bin;C:\\\\Users\\\\oentoro\\\\AppData\\\\Local\\\\Programs\\\\Microsoft VS Code\\\\bin;C:\\\\tools\\\\dart-sdk\\\\bin;C:\\\\Users\\\\oentoro\\\\AppData\\\\Roaming\\\\Pub\\\\Cache\\\\bin', 'PATHEXT': '.COM;.EXE;.BAT;.CMD;.VBS;.VBE;.JS;.JSE;.WSF;.WSH;.MSC;.PY;.PYW;.CPL', 'PROCESSOR_ARCHITECTURE': 'AMD64', 'PROCESSOR_IDENTIFIER': 'AMD64 Family 23 Model 24 Stepping 1, AuthenticAMD', 'PROCESSOR_LEVEL': '23', 'PROCESSOR_REVISION': '1801', 'PROGRAMDATA': 'C:\\\\ProgramData', 'PROGRAMFILES': 'C:\\\\Program Files', 'PROGRAMFILES(X86)': 'C:\\\\Program Files (x86)', 'PROGRAMW6432': 'C:\\\\Program Files', 'PSMODULEPATH': 'C:\\\\Users\\\\oentoro\\\\Documents\\\\WindowsPowerShell\\\\Modules;C:\\\\Program Files\\\\WindowsPowerShell\\\\Modules;C:\\\\Windows\\\\system32\\\\WindowsPowerShell\\\\v1.0\\\\Modules', 'PUBLIC': 'C:\\\\Users\\\\Public', 'SYSTEMDRIVE': 'C:', 'SYSTEMROOT': 'C:\\\\Windows', 'TEMP': 'C:\\\\Users\\\\oentoro\\\\AppData\\\\Local\\\\Temp', 'TMP': 'C:\\\\Users\\\\oentoro\\\\AppData\\\\Local\\\\Temp', 'USERDOMAIN': 'OENTORO', 'USERDOMAIN_ROAMINGPROFILE': 'OENTORO', 'USERNAME': 'oentoro', 'USERPROFILE': 'C:\\\\Users\\\\oentoro', 'VIRTUAL_ENV': 'D:\\\\oentoro\\\\python-data-science', 'WINDIR': 'C:\\\\Windows', 'WSLENV': 'WT_SESSION::WT_PROFILE_ID', 'WT_PROFILE_ID': '{61c54bbd-c2c6-5271-96e7-009a87ff44bf}', 'WT_SESSION': '803d228e-4133-404e-826e-2208418e1905', '_OLD_VIRTUAL_PATH': 'C:\\\\Python39\\\\Scripts\\\\;C:\\\\Python39\\\\;C:\\\\Windows\\\\system32;C:\\\\Windows;C:\\\\Windows\\\\System32\\\\Wbem;C:\\\\Windows\\\\System32\\\\WindowsPowerShell\\\\v1.0\\\\;C:\\\\Windows\\\\System32\\\\OpenSSH\\\\;C:\\\\ProgramData\\\\chocolatey\\\\bin;C:\\\\Program Files\\\\Git\\\\cmd;D:\\\\flutter\\\\bin;;C:\\\\Program Files\\\\Docker\\\\Docker\\\\resources\\\\bin;C:\\\\ProgramData\\\\DockerDesktop\\\\version-bin;C:\\\\tools\\\\php80;C:\\\\Users\\\\oentoro\\\\AppData\\\\Local\\\\Microsoft\\\\WindowsApps;D:\\\\program files\\\\IntelliJ IDEA\\\\IntelliJ IDEA Community Edition 2020.2.2\\\\bin;C:\\\\Users\\\\oentoro\\\\AppData\\\\Local\\\\Programs\\\\Microsoft VS Code\\\\bin;C:\\\\tools\\\\dart-sdk\\\\bin;C:\\\\Users\\\\oentoro\\\\AppData\\\\Roaming\\\\Pub\\\\Cache\\\\bin', 'JPY_INTERRUPT_EVENT': '3248', 'IPY_INTERRUPT_EVENT': '3248', 'JPY_PARENT_PID': '3296', 'TERM': 'xterm-color', 'CLICOLOR': '1', 'PAGER': 'cat', 'GIT_PAGER': 'cat', 'MPLBACKEND': 'module://matplotlib_inline.backend_inline'}"
      ]
     },
     "execution_count": 17,
     "metadata": {},
     "output_type": "execute_result"
    }
   ],
   "source": [
    "%env"
   ]
  },
  {
   "cell_type": "code",
   "execution_count": 18,
   "id": "d707f3b6",
   "metadata": {},
   "outputs": [
    {
     "data": {
      "text/plain": [
       "<IPython.core.magics.basic.MagicsDisplay object at 0x000001E3D9787BE0>"
      ]
     },
     "execution_count": 18,
     "metadata": {},
     "output_type": "execute_result"
    }
   ],
   "source": [
    "%lsmagic"
   ]
  },
  {
   "cell_type": "code",
   "execution_count": null,
   "id": "50c70325",
   "metadata": {},
   "outputs": [],
   "source": []
  }
 ],
 "metadata": {
  "kernelspec": {
   "display_name": "Python 3 (ipykernel)",
   "language": "python",
   "name": "python3"
  },
  "language_info": {
   "codemirror_mode": {
    "name": "ipython",
    "version": 3
   },
   "file_extension": ".py",
   "mimetype": "text/x-python",
   "name": "python",
   "nbconvert_exporter": "python",
   "pygments_lexer": "ipython3",
   "version": "3.9.1"
  }
 },
 "nbformat": 4,
 "nbformat_minor": 5
}
