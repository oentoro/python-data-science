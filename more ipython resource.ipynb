{
 "cells": [
  {
   "cell_type": "markdown",
   "id": "17dbb803",
   "metadata": {},
   "source": [
    "Finally, a reminder that you can find help on your own: IPython's ?-based help functionality (discussed in Help and Documentation in IPython) can be very useful if you use it well and use it often. As you go through the examples here and elsewhere, this can be used to familiarize yourself with all the tools that IPython has to offer."
   ]
  },
  {
   "cell_type": "code",
   "execution_count": null,
   "id": "f18bd379",
   "metadata": {},
   "outputs": [],
   "source": []
  }
 ],
 "metadata": {
  "kernelspec": {
   "display_name": "Python 3 (ipykernel)",
   "language": "python",
   "name": "python3"
  },
  "language_info": {
   "codemirror_mode": {
    "name": "ipython",
    "version": 3
   },
   "file_extension": ".py",
   "mimetype": "text/x-python",
   "name": "python",
   "nbconvert_exporter": "python",
   "pygments_lexer": "ipython3",
   "version": "3.9.1"
  }
 },
 "nbformat": 4,
 "nbformat_minor": 5
}
